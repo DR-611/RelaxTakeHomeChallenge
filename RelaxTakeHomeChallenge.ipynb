{
 "cells": [
  {
   "cell_type": "markdown",
   "id": "aa581147",
   "metadata": {},
   "source": [
    "## Summary"
   ]
  },
  {
   "cell_type": "markdown",
   "id": "64b1bf8f",
   "metadata": {},
   "source": [
    "After analysis (all code is below), it was found that a user's total number of logins and the number of days between a user's account creation and most recent login were by far the most important factors in predicting user adoption. The organization id also showed some importance. The following courses of action may be helpful:\n",
    "\n",
    "* Engage in marketing efforts to encourage users to continue using the platform, and to use it frequently. This could invovle email reminders for users who have not recently logged in or discounts or support for certain users. Specifically, users who have recently signed up for the platform could be targeted to increase the likelihood that they grow accustomed to using the service. \n",
    "* We can also analyze which organizations have users that tend to be adopters and which organizations tend to have users that are not adopters. This will allow us to focus on managing relationships with organizations that tend to be high adopters. We can also discover why individuals at some organizations tend to be low adopters - we may be able to offer additional training/support, discounts, or new product features to these individuals."
   ]
  },
  {
   "cell_type": "markdown",
   "id": "a9022613",
   "metadata": {},
   "source": [
    "## 1. Imports"
   ]
  },
  {
   "cell_type": "code",
   "execution_count": 1,
   "id": "7ed93398",
   "metadata": {},
   "outputs": [],
   "source": [
    "import numpy as np\n",
    "import pandas as pd\n",
    "from sklearn import preprocessing, model_selection, ensemble, metrics\n",
    "import matplotlib.pyplot as plt\n",
    "import seaborn as sns"
   ]
  },
  {
   "cell_type": "markdown",
   "id": "b55b33d4",
   "metadata": {},
   "source": [
    "## 2. Load the Data"
   ]
  },
  {
   "cell_type": "code",
   "execution_count": 2,
   "id": "dcbbba0c",
   "metadata": {},
   "outputs": [],
   "source": [
    "#load the user data\n",
    "\n",
    "path = 'takehome_users.csv'\n",
    "\n",
    "df_users = pd.read_csv(path)"
   ]
  },
  {
   "cell_type": "code",
   "execution_count": 3,
   "id": "e0243cd9",
   "metadata": {},
   "outputs": [],
   "source": [
    "#load the usage data\n",
    "\n",
    "path = 'takehome_user_engagement.csv'\n",
    "\n",
    "df_usage = pd.read_csv(path)"
   ]
  },
  {
   "cell_type": "markdown",
   "id": "904aef5e",
   "metadata": {},
   "source": [
    "## 3. Data Wrangling"
   ]
  },
  {
   "cell_type": "markdown",
   "id": "555e384b",
   "metadata": {},
   "source": [
    "### Users Table"
   ]
  },
  {
   "cell_type": "code",
   "execution_count": 4,
   "id": "15919ae8",
   "metadata": {},
   "outputs": [
    {
     "data": {
      "text/html": [
       "<div>\n",
       "<style scoped>\n",
       "    .dataframe tbody tr th:only-of-type {\n",
       "        vertical-align: middle;\n",
       "    }\n",
       "\n",
       "    .dataframe tbody tr th {\n",
       "        vertical-align: top;\n",
       "    }\n",
       "\n",
       "    .dataframe thead th {\n",
       "        text-align: right;\n",
       "    }\n",
       "</style>\n",
       "<table border=\"1\" class=\"dataframe\">\n",
       "  <thead>\n",
       "    <tr style=\"text-align: right;\">\n",
       "      <th></th>\n",
       "      <th>object_id</th>\n",
       "      <th>creation_time</th>\n",
       "      <th>name</th>\n",
       "      <th>email</th>\n",
       "      <th>creation_source</th>\n",
       "      <th>last_session_creation_time</th>\n",
       "      <th>opted_in_to_mailing_list</th>\n",
       "      <th>enabled_for_marketing_drip</th>\n",
       "      <th>org_id</th>\n",
       "      <th>invited_by_user_id</th>\n",
       "    </tr>\n",
       "  </thead>\n",
       "  <tbody>\n",
       "    <tr>\n",
       "      <th>0</th>\n",
       "      <td>1</td>\n",
       "      <td>2014-04-22 03:53:30</td>\n",
       "      <td>Clausen August</td>\n",
       "      <td>AugustCClausen@yahoo.com</td>\n",
       "      <td>GUEST_INVITE</td>\n",
       "      <td>1.398139e+09</td>\n",
       "      <td>1</td>\n",
       "      <td>0</td>\n",
       "      <td>11</td>\n",
       "      <td>10803.0</td>\n",
       "    </tr>\n",
       "    <tr>\n",
       "      <th>1</th>\n",
       "      <td>2</td>\n",
       "      <td>2013-11-15 03:45:04</td>\n",
       "      <td>Poole Matthew</td>\n",
       "      <td>MatthewPoole@gustr.com</td>\n",
       "      <td>ORG_INVITE</td>\n",
       "      <td>1.396238e+09</td>\n",
       "      <td>0</td>\n",
       "      <td>0</td>\n",
       "      <td>1</td>\n",
       "      <td>316.0</td>\n",
       "    </tr>\n",
       "    <tr>\n",
       "      <th>2</th>\n",
       "      <td>3</td>\n",
       "      <td>2013-03-19 23:14:52</td>\n",
       "      <td>Bottrill Mitchell</td>\n",
       "      <td>MitchellBottrill@gustr.com</td>\n",
       "      <td>ORG_INVITE</td>\n",
       "      <td>1.363735e+09</td>\n",
       "      <td>0</td>\n",
       "      <td>0</td>\n",
       "      <td>94</td>\n",
       "      <td>1525.0</td>\n",
       "    </tr>\n",
       "    <tr>\n",
       "      <th>3</th>\n",
       "      <td>4</td>\n",
       "      <td>2013-05-21 08:09:28</td>\n",
       "      <td>Clausen Nicklas</td>\n",
       "      <td>NicklasSClausen@yahoo.com</td>\n",
       "      <td>GUEST_INVITE</td>\n",
       "      <td>1.369210e+09</td>\n",
       "      <td>0</td>\n",
       "      <td>0</td>\n",
       "      <td>1</td>\n",
       "      <td>5151.0</td>\n",
       "    </tr>\n",
       "    <tr>\n",
       "      <th>4</th>\n",
       "      <td>5</td>\n",
       "      <td>2013-01-17 10:14:20</td>\n",
       "      <td>Raw Grace</td>\n",
       "      <td>GraceRaw@yahoo.com</td>\n",
       "      <td>GUEST_INVITE</td>\n",
       "      <td>1.358850e+09</td>\n",
       "      <td>0</td>\n",
       "      <td>0</td>\n",
       "      <td>193</td>\n",
       "      <td>5240.0</td>\n",
       "    </tr>\n",
       "  </tbody>\n",
       "</table>\n",
       "</div>"
      ],
      "text/plain": [
       "   object_id        creation_time               name  \\\n",
       "0          1  2014-04-22 03:53:30     Clausen August   \n",
       "1          2  2013-11-15 03:45:04      Poole Matthew   \n",
       "2          3  2013-03-19 23:14:52  Bottrill Mitchell   \n",
       "3          4  2013-05-21 08:09:28    Clausen Nicklas   \n",
       "4          5  2013-01-17 10:14:20          Raw Grace   \n",
       "\n",
       "                        email creation_source  last_session_creation_time  \\\n",
       "0    AugustCClausen@yahoo.com    GUEST_INVITE                1.398139e+09   \n",
       "1      MatthewPoole@gustr.com      ORG_INVITE                1.396238e+09   \n",
       "2  MitchellBottrill@gustr.com      ORG_INVITE                1.363735e+09   \n",
       "3   NicklasSClausen@yahoo.com    GUEST_INVITE                1.369210e+09   \n",
       "4          GraceRaw@yahoo.com    GUEST_INVITE                1.358850e+09   \n",
       "\n",
       "   opted_in_to_mailing_list  enabled_for_marketing_drip  org_id  \\\n",
       "0                         1                           0      11   \n",
       "1                         0                           0       1   \n",
       "2                         0                           0      94   \n",
       "3                         0                           0       1   \n",
       "4                         0                           0     193   \n",
       "\n",
       "   invited_by_user_id  \n",
       "0             10803.0  \n",
       "1               316.0  \n",
       "2              1525.0  \n",
       "3              5151.0  \n",
       "4              5240.0  "
      ]
     },
     "execution_count": 4,
     "metadata": {},
     "output_type": "execute_result"
    }
   ],
   "source": [
    "#users table\n",
    "df_users.head()"
   ]
  },
  {
   "cell_type": "code",
   "execution_count": 5,
   "id": "ac7fd7a2",
   "metadata": {},
   "outputs": [
    {
     "name": "stdout",
     "output_type": "stream",
     "text": [
      "<class 'pandas.core.frame.DataFrame'>\n",
      "RangeIndex: 12000 entries, 0 to 11999\n",
      "Data columns (total 10 columns):\n",
      " #   Column                      Non-Null Count  Dtype  \n",
      "---  ------                      --------------  -----  \n",
      " 0   object_id                   12000 non-null  int64  \n",
      " 1   creation_time               12000 non-null  object \n",
      " 2   name                        12000 non-null  object \n",
      " 3   email                       12000 non-null  object \n",
      " 4   creation_source             12000 non-null  object \n",
      " 5   last_session_creation_time  8823 non-null   float64\n",
      " 6   opted_in_to_mailing_list    12000 non-null  int64  \n",
      " 7   enabled_for_marketing_drip  12000 non-null  int64  \n",
      " 8   org_id                      12000 non-null  int64  \n",
      " 9   invited_by_user_id          6417 non-null   float64\n",
      "dtypes: float64(2), int64(4), object(4)\n",
      "memory usage: 937.6+ KB\n"
     ]
    }
   ],
   "source": [
    "df_users.info()"
   ]
  },
  {
   "cell_type": "code",
   "execution_count": 6,
   "id": "ca4374f8",
   "metadata": {},
   "outputs": [],
   "source": [
    "#rename object_id to user_id\n",
    "df_users = df_users.rename(columns={'object_id':'user_id'})"
   ]
  },
  {
   "cell_type": "code",
   "execution_count": 7,
   "id": "25950d9c",
   "metadata": {},
   "outputs": [
    {
     "data": {
      "text/html": [
       "<div>\n",
       "<style scoped>\n",
       "    .dataframe tbody tr th:only-of-type {\n",
       "        vertical-align: middle;\n",
       "    }\n",
       "\n",
       "    .dataframe tbody tr th {\n",
       "        vertical-align: top;\n",
       "    }\n",
       "\n",
       "    .dataframe thead th {\n",
       "        text-align: right;\n",
       "    }\n",
       "</style>\n",
       "<table border=\"1\" class=\"dataframe\">\n",
       "  <thead>\n",
       "    <tr style=\"text-align: right;\">\n",
       "      <th></th>\n",
       "      <th>user_id</th>\n",
       "      <th>last_session_creation_time</th>\n",
       "      <th>opted_in_to_mailing_list</th>\n",
       "      <th>enabled_for_marketing_drip</th>\n",
       "      <th>org_id</th>\n",
       "      <th>invited_by_user_id</th>\n",
       "    </tr>\n",
       "  </thead>\n",
       "  <tbody>\n",
       "    <tr>\n",
       "      <th>count</th>\n",
       "      <td>12000.00000</td>\n",
       "      <td>8.823000e+03</td>\n",
       "      <td>12000.000000</td>\n",
       "      <td>12000.000000</td>\n",
       "      <td>12000.000000</td>\n",
       "      <td>6417.000000</td>\n",
       "    </tr>\n",
       "    <tr>\n",
       "      <th>mean</th>\n",
       "      <td>6000.50000</td>\n",
       "      <td>1.379279e+09</td>\n",
       "      <td>0.249500</td>\n",
       "      <td>0.149333</td>\n",
       "      <td>141.884583</td>\n",
       "      <td>5962.957145</td>\n",
       "    </tr>\n",
       "    <tr>\n",
       "      <th>std</th>\n",
       "      <td>3464.24595</td>\n",
       "      <td>1.953116e+07</td>\n",
       "      <td>0.432742</td>\n",
       "      <td>0.356432</td>\n",
       "      <td>124.056723</td>\n",
       "      <td>3383.761968</td>\n",
       "    </tr>\n",
       "    <tr>\n",
       "      <th>min</th>\n",
       "      <td>1.00000</td>\n",
       "      <td>1.338452e+09</td>\n",
       "      <td>0.000000</td>\n",
       "      <td>0.000000</td>\n",
       "      <td>0.000000</td>\n",
       "      <td>3.000000</td>\n",
       "    </tr>\n",
       "    <tr>\n",
       "      <th>25%</th>\n",
       "      <td>3000.75000</td>\n",
       "      <td>1.363195e+09</td>\n",
       "      <td>0.000000</td>\n",
       "      <td>0.000000</td>\n",
       "      <td>29.000000</td>\n",
       "      <td>3058.000000</td>\n",
       "    </tr>\n",
       "    <tr>\n",
       "      <th>50%</th>\n",
       "      <td>6000.50000</td>\n",
       "      <td>1.382888e+09</td>\n",
       "      <td>0.000000</td>\n",
       "      <td>0.000000</td>\n",
       "      <td>108.000000</td>\n",
       "      <td>5954.000000</td>\n",
       "    </tr>\n",
       "    <tr>\n",
       "      <th>75%</th>\n",
       "      <td>9000.25000</td>\n",
       "      <td>1.398443e+09</td>\n",
       "      <td>0.000000</td>\n",
       "      <td>0.000000</td>\n",
       "      <td>238.250000</td>\n",
       "      <td>8817.000000</td>\n",
       "    </tr>\n",
       "    <tr>\n",
       "      <th>max</th>\n",
       "      <td>12000.00000</td>\n",
       "      <td>1.402067e+09</td>\n",
       "      <td>1.000000</td>\n",
       "      <td>1.000000</td>\n",
       "      <td>416.000000</td>\n",
       "      <td>11999.000000</td>\n",
       "    </tr>\n",
       "  </tbody>\n",
       "</table>\n",
       "</div>"
      ],
      "text/plain": [
       "           user_id  last_session_creation_time  opted_in_to_mailing_list  \\\n",
       "count  12000.00000                8.823000e+03              12000.000000   \n",
       "mean    6000.50000                1.379279e+09                  0.249500   \n",
       "std     3464.24595                1.953116e+07                  0.432742   \n",
       "min        1.00000                1.338452e+09                  0.000000   \n",
       "25%     3000.75000                1.363195e+09                  0.000000   \n",
       "50%     6000.50000                1.382888e+09                  0.000000   \n",
       "75%     9000.25000                1.398443e+09                  0.000000   \n",
       "max    12000.00000                1.402067e+09                  1.000000   \n",
       "\n",
       "       enabled_for_marketing_drip        org_id  invited_by_user_id  \n",
       "count                12000.000000  12000.000000         6417.000000  \n",
       "mean                     0.149333    141.884583         5962.957145  \n",
       "std                      0.356432    124.056723         3383.761968  \n",
       "min                      0.000000      0.000000            3.000000  \n",
       "25%                      0.000000     29.000000         3058.000000  \n",
       "50%                      0.000000    108.000000         5954.000000  \n",
       "75%                      0.000000    238.250000         8817.000000  \n",
       "max                      1.000000    416.000000        11999.000000  "
      ]
     },
     "execution_count": 7,
     "metadata": {},
     "output_type": "execute_result"
    }
   ],
   "source": [
    "df_users.describe()"
   ]
  },
  {
   "cell_type": "markdown",
   "id": "73260941",
   "metadata": {},
   "source": [
    "### Usage Table"
   ]
  },
  {
   "cell_type": "code",
   "execution_count": 8,
   "id": "b9d3aea6",
   "metadata": {},
   "outputs": [
    {
     "data": {
      "text/html": [
       "<div>\n",
       "<style scoped>\n",
       "    .dataframe tbody tr th:only-of-type {\n",
       "        vertical-align: middle;\n",
       "    }\n",
       "\n",
       "    .dataframe tbody tr th {\n",
       "        vertical-align: top;\n",
       "    }\n",
       "\n",
       "    .dataframe thead th {\n",
       "        text-align: right;\n",
       "    }\n",
       "</style>\n",
       "<table border=\"1\" class=\"dataframe\">\n",
       "  <thead>\n",
       "    <tr style=\"text-align: right;\">\n",
       "      <th></th>\n",
       "      <th>time_stamp</th>\n",
       "      <th>user_id</th>\n",
       "      <th>visited</th>\n",
       "    </tr>\n",
       "  </thead>\n",
       "  <tbody>\n",
       "    <tr>\n",
       "      <th>0</th>\n",
       "      <td>2014-04-22 03:53:30</td>\n",
       "      <td>1</td>\n",
       "      <td>1</td>\n",
       "    </tr>\n",
       "    <tr>\n",
       "      <th>1</th>\n",
       "      <td>2013-11-15 03:45:04</td>\n",
       "      <td>2</td>\n",
       "      <td>1</td>\n",
       "    </tr>\n",
       "    <tr>\n",
       "      <th>2</th>\n",
       "      <td>2013-11-29 03:45:04</td>\n",
       "      <td>2</td>\n",
       "      <td>1</td>\n",
       "    </tr>\n",
       "    <tr>\n",
       "      <th>3</th>\n",
       "      <td>2013-12-09 03:45:04</td>\n",
       "      <td>2</td>\n",
       "      <td>1</td>\n",
       "    </tr>\n",
       "    <tr>\n",
       "      <th>4</th>\n",
       "      <td>2013-12-25 03:45:04</td>\n",
       "      <td>2</td>\n",
       "      <td>1</td>\n",
       "    </tr>\n",
       "  </tbody>\n",
       "</table>\n",
       "</div>"
      ],
      "text/plain": [
       "            time_stamp  user_id  visited\n",
       "0  2014-04-22 03:53:30        1        1\n",
       "1  2013-11-15 03:45:04        2        1\n",
       "2  2013-11-29 03:45:04        2        1\n",
       "3  2013-12-09 03:45:04        2        1\n",
       "4  2013-12-25 03:45:04        2        1"
      ]
     },
     "execution_count": 8,
     "metadata": {},
     "output_type": "execute_result"
    }
   ],
   "source": [
    "#usage table\n",
    "df_usage.head()"
   ]
  },
  {
   "cell_type": "code",
   "execution_count": 9,
   "id": "256fdd01",
   "metadata": {},
   "outputs": [
    {
     "name": "stdout",
     "output_type": "stream",
     "text": [
      "<class 'pandas.core.frame.DataFrame'>\n",
      "RangeIndex: 207917 entries, 0 to 207916\n",
      "Data columns (total 3 columns):\n",
      " #   Column      Non-Null Count   Dtype \n",
      "---  ------      --------------   ----- \n",
      " 0   time_stamp  207917 non-null  object\n",
      " 1   user_id     207917 non-null  int64 \n",
      " 2   visited     207917 non-null  int64 \n",
      "dtypes: int64(2), object(1)\n",
      "memory usage: 4.8+ MB\n"
     ]
    }
   ],
   "source": [
    "df_usage.info()"
   ]
  },
  {
   "cell_type": "code",
   "execution_count": 10,
   "id": "e5ae88fb",
   "metadata": {},
   "outputs": [],
   "source": [
    "df_usage['time_stamp'] = pd.to_datetime(df_usage.time_stamp)"
   ]
  },
  {
   "cell_type": "code",
   "execution_count": 11,
   "id": "91e40943",
   "metadata": {},
   "outputs": [
    {
     "data": {
      "text/html": [
       "<div>\n",
       "<style scoped>\n",
       "    .dataframe tbody tr th:only-of-type {\n",
       "        vertical-align: middle;\n",
       "    }\n",
       "\n",
       "    .dataframe tbody tr th {\n",
       "        vertical-align: top;\n",
       "    }\n",
       "\n",
       "    .dataframe thead th {\n",
       "        text-align: right;\n",
       "    }\n",
       "</style>\n",
       "<table border=\"1\" class=\"dataframe\">\n",
       "  <thead>\n",
       "    <tr style=\"text-align: right;\">\n",
       "      <th></th>\n",
       "      <th>user_id</th>\n",
       "      <th>visited</th>\n",
       "    </tr>\n",
       "  </thead>\n",
       "  <tbody>\n",
       "    <tr>\n",
       "      <th>count</th>\n",
       "      <td>207917.000000</td>\n",
       "      <td>207917.0</td>\n",
       "    </tr>\n",
       "    <tr>\n",
       "      <th>mean</th>\n",
       "      <td>5913.314197</td>\n",
       "      <td>1.0</td>\n",
       "    </tr>\n",
       "    <tr>\n",
       "      <th>std</th>\n",
       "      <td>3394.941674</td>\n",
       "      <td>0.0</td>\n",
       "    </tr>\n",
       "    <tr>\n",
       "      <th>min</th>\n",
       "      <td>1.000000</td>\n",
       "      <td>1.0</td>\n",
       "    </tr>\n",
       "    <tr>\n",
       "      <th>25%</th>\n",
       "      <td>3087.000000</td>\n",
       "      <td>1.0</td>\n",
       "    </tr>\n",
       "    <tr>\n",
       "      <th>50%</th>\n",
       "      <td>5682.000000</td>\n",
       "      <td>1.0</td>\n",
       "    </tr>\n",
       "    <tr>\n",
       "      <th>75%</th>\n",
       "      <td>8944.000000</td>\n",
       "      <td>1.0</td>\n",
       "    </tr>\n",
       "    <tr>\n",
       "      <th>max</th>\n",
       "      <td>12000.000000</td>\n",
       "      <td>1.0</td>\n",
       "    </tr>\n",
       "  </tbody>\n",
       "</table>\n",
       "</div>"
      ],
      "text/plain": [
       "             user_id   visited\n",
       "count  207917.000000  207917.0\n",
       "mean     5913.314197       1.0\n",
       "std      3394.941674       0.0\n",
       "min         1.000000       1.0\n",
       "25%      3087.000000       1.0\n",
       "50%      5682.000000       1.0\n",
       "75%      8944.000000       1.0\n",
       "max     12000.000000       1.0"
      ]
     },
     "execution_count": 11,
     "metadata": {},
     "output_type": "execute_result"
    }
   ],
   "source": [
    "df_usage.describe()"
   ]
  },
  {
   "cell_type": "code",
   "execution_count": 12,
   "id": "5302f7e7",
   "metadata": {},
   "outputs": [],
   "source": [
    "#determine which users are adopted\n",
    "\n",
    "\n",
    "#normalize the time stamps (so that we can group by date)\n",
    "df_usage['time_stamp'] = df_usage.time_stamp.dt.normalize()\n",
    "\n",
    "#get the unique login dates for each user\n",
    "user_logins = df_usage.groupby(['user_id','time_stamp']).agg({'visited':'count'})\n",
    "user_logins = user_logins.reset_index()\n",
    "user_logins = user_logins.sort_values(by=['user_id','time_stamp'])\n",
    "\n",
    "#dict to track which users are adopted\n",
    "user_adopted = dict()\n",
    "\n",
    "#check adoption status for each user\n",
    "for user_id in user_logins.user_id.unique():\n",
    "    \n",
    "    #filter logins for current user\n",
    "    mask = user_logins.user_id == user_id\n",
    "    \n",
    "    #get the min. days between 3 consecutive logins\n",
    "    min_diff = user_logins[mask].time_stamp.diff(2).dt.days.min()\n",
    "    \n",
    "    #check if user is adopted\n",
    "    if min_diff <= 7:\n",
    "        user_adopted[user_id] = True\n",
    "\n",
    "#default the adopted column to False\n",
    "df_usage['adopted'] = False\n",
    "\n",
    "#set adopted column to True for adopted users\n",
    "df_usage.loc[df_usage.user_id.isin(list(user_adopted.keys())), 'adopted'] = True"
   ]
  },
  {
   "cell_type": "code",
   "execution_count": 13,
   "id": "f04e4e27",
   "metadata": {},
   "outputs": [],
   "source": [
    "#track the total number of logins for each user\n",
    "\n",
    "login_counts = df_usage.groupby('user_id')\\\n",
    "    .agg({'visited':'count'})\\\n",
    "    .rename(columns={'visited':'login_count'})\n",
    "\n",
    "df_usage = pd.merge(df_usage,login_counts, left_on='user_id', right_index=True)"
   ]
  },
  {
   "cell_type": "code",
   "execution_count": 14,
   "id": "18b484d5",
   "metadata": {},
   "outputs": [],
   "source": [
    "#drop unneeded columns in the usage table\n",
    "df_usage = df_usage.drop(columns=['time_stamp','visited'])"
   ]
  },
  {
   "cell_type": "code",
   "execution_count": 15,
   "id": "a7982c80",
   "metadata": {},
   "outputs": [],
   "source": [
    "#drop duplicate rows in the usage table\n",
    "df_usage =  df_usage.drop_duplicates().set_index('user_id')"
   ]
  },
  {
   "cell_type": "markdown",
   "id": "5c80004a",
   "metadata": {},
   "source": [
    "### Join The User and Usage Data"
   ]
  },
  {
   "cell_type": "code",
   "execution_count": 16,
   "id": "1860f23f",
   "metadata": {},
   "outputs": [],
   "source": [
    "#join the adopted column and user table\n",
    "\n",
    "df_users = df_users.set_index('user_id')\n",
    "df_users = pd.concat([df_users, df_usage],axis=1)\n",
    "\n",
    "#Set adopted to False for users who have never logged in\n",
    "df_users.loc[df_users.adopted.isna(),'adopted'] = False"
   ]
  },
  {
   "cell_type": "code",
   "execution_count": 17,
   "id": "a1f2dff7",
   "metadata": {},
   "outputs": [
    {
     "name": "stdout",
     "output_type": "stream",
     "text": [
      "Adoption rate: 13.8%\n"
     ]
    }
   ],
   "source": [
    "#check the adoption rate\n",
    "adoption_rate = np.sum(df_users.adopted) / len(df_users.adopted)\n",
    "print('Adoption rate: {}%'.format(adoption_rate * 100))"
   ]
  },
  {
   "cell_type": "markdown",
   "id": "fb42bcf0",
   "metadata": {},
   "source": [
    "Note that this data has a slight imbalance (a little greater than 6:1). However, this is not a severe imbalance so we can try a model without any oversampling or undersampling techniques."
   ]
  },
  {
   "cell_type": "markdown",
   "id": "46c4dfe4",
   "metadata": {},
   "source": [
    "### Missing Values"
   ]
  },
  {
   "cell_type": "code",
   "execution_count": 18,
   "id": "6828720a",
   "metadata": {},
   "outputs": [],
   "source": [
    "#last_session_creation_time contains missing values.\n",
    "#time between a user's most recent session and creation_time will be calculated where possible\n",
    "#last_session_creation_time and creation_time will then be dropped\n",
    "\n",
    "df_users['last_session_creation_time'] = pd.to_datetime(df_users.last_session_creation_time, unit='s')\n",
    "df_users['creation_time'] = pd.to_datetime(df_users.creation_time)\n",
    "df_users['usage_window_in_days'] = (df_users.last_session_creation_time - df_users.creation_time).dt.days\n",
    "df_users.loc[df_users.usage_window_in_days.isna(),'usage_window_in_days'] = 0\n",
    "\n",
    "df_users = df_users.drop(columns=['last_session_creation_time','creation_time'])"
   ]
  },
  {
   "cell_type": "code",
   "execution_count": 19,
   "id": "1ba30627",
   "metadata": {},
   "outputs": [],
   "source": [
    "#invited_by_user_id contains missing values. Whether or not a user was invited, and the number of invitations\n",
    "# issued by a user will be tracked. invited_by_user_id will then be dropped.\n",
    "\n",
    "#track the number of invites issued by each user\n",
    "number_of_invites = pd.DataFrame(df_users.invited_by_user_id.value_counts())\n",
    "number_of_invites.index = number_of_invites.index.astype(int)\n",
    "number_of_invites = number_of_invites.rename(columns={'invited_by_user_id':'number_of_invites'})\n",
    "df_users = pd.concat([df_users,number_of_invites], axis=1)\n",
    "df_users.loc[df_users.number_of_invites.isna(),'number_of_invites'] = 0\n",
    "\n",
    "#track whether a user was invited\n",
    "df_users['was_invited'] = False\n",
    "df_users.loc[df_users['invited_by_user_id'].notna(), 'was_invited'] = True\n",
    "\n",
    "#drop invited_by_user_id\n",
    "df_users = df_users.drop(columns=['invited_by_user_id'])"
   ]
  },
  {
   "cell_type": "code",
   "execution_count": 20,
   "id": "e5a696c0",
   "metadata": {},
   "outputs": [],
   "source": [
    "#login_count has null values because some users never logged in - replace nulls with 0\n",
    "df_users.loc[df_users.login_count.isna(), 'login_count'] = 0"
   ]
  },
  {
   "cell_type": "code",
   "execution_count": 21,
   "id": "fafb7954",
   "metadata": {},
   "outputs": [
    {
     "data": {
      "text/plain": [
       "gmail         3562\n",
       "yahoo         2447\n",
       "jourrapide    1259\n",
       "cuvox         1202\n",
       "gustr         1179\n",
       "hotmail       1165\n",
       "rerwl            2\n",
       "qgjbc            2\n",
       "oqpze            2\n",
       "luque            2\n",
       "Name: email_domain, dtype: int64"
      ]
     },
     "execution_count": 21,
     "metadata": {},
     "output_type": "execute_result"
    }
   ],
   "source": [
    "#get domain names from the email addresses\n",
    "df_users['email_domain'] = df_users.email.str.split('@').str[1]\n",
    "df_users['email_domain'] = df_users.email_domain.str.split('.').str[0]\n",
    "df_users.email_domain.value_counts().head(10)"
   ]
  },
  {
   "cell_type": "code",
   "execution_count": 22,
   "id": "4d482986",
   "metadata": {},
   "outputs": [],
   "source": [
    "#6 domains account for almost all email addresses - label all other domains \"OTHER\"\n",
    "\n",
    "common_domains = df_users.email_domain.value_counts().iloc[0:6].index.to_list()\n",
    "df_users.loc[ ~ df_users.email_domain.isin(common_domains), 'email_domain'] = 'OTHER'\n",
    "\n",
    "\n",
    "#drop the email column\n",
    "df_users = df_users.drop(columns=['email'])"
   ]
  },
  {
   "cell_type": "code",
   "execution_count": 23,
   "id": "c7524b29",
   "metadata": {},
   "outputs": [],
   "source": [
    "#drop the name column\n",
    "df_users = df_users.drop(columns=['name'])"
   ]
  },
  {
   "cell_type": "markdown",
   "id": "bea4c3bf",
   "metadata": {},
   "source": [
    "## 4. Preprocessing"
   ]
  },
  {
   "cell_type": "code",
   "execution_count": 24,
   "id": "dc0f1201",
   "metadata": {},
   "outputs": [],
   "source": [
    "random_state = 42"
   ]
  },
  {
   "cell_type": "code",
   "execution_count": 25,
   "id": "3a32ce31",
   "metadata": {},
   "outputs": [],
   "source": [
    "#convert boolean columns (adopted, was_invited) to integer columns\n",
    "df_users['adopted'] = df_users.adopted.astype(int)\n",
    "df_users['was_invited'] = df_users.was_invited.astype(int)"
   ]
  },
  {
   "cell_type": "code",
   "execution_count": 26,
   "id": "9f992f00",
   "metadata": {},
   "outputs": [],
   "source": [
    "#encode the org_id column using label encoding\n",
    "encoder = preprocessing.LabelEncoder()\n",
    "labels = encoder.fit_transform(df_users.org_id)\n",
    "df_users['org_id'] = labels"
   ]
  },
  {
   "cell_type": "code",
   "execution_count": 27,
   "id": "15dd01a8",
   "metadata": {},
   "outputs": [],
   "source": [
    "#encode the creation_source and email_domain columns using one hot encoding  \n",
    "encoder = preprocessing.OneHotEncoder(sparse=False)\n",
    "\n",
    "lst_features = ['creation_source','email_domain']\n",
    "\n",
    "columns_to_encode = df_users[lst_features]\n",
    "\n",
    "encoded_cols = pd.DataFrame(encoder.fit_transform(columns_to_encode),\n",
    "                           columns=encoder.get_feature_names(lst_features),\n",
    "                           index=columns_to_encode.index)\n",
    "\n",
    "df_users = pd.concat([df_users,encoded_cols],axis=1)\n",
    "\n",
    "df_users = df_users.drop(columns=['creation_source','email_domain'])"
   ]
  },
  {
   "cell_type": "code",
   "execution_count": 28,
   "id": "f07c6fd6",
   "metadata": {},
   "outputs": [],
   "source": [
    "#train/test split\n",
    "X = df_users.drop(columns=['adopted'])\n",
    "y = df_users[['adopted']]\n",
    "\n",
    "X_train, X_test, y_train, y_test = \\\n",
    "    model_selection.train_test_split(X, y, test_size=0.3, random_state=random_state, stratify=y)"
   ]
  },
  {
   "cell_type": "markdown",
   "id": "73d10f6e",
   "metadata": {},
   "source": [
    "## 5. Modeling"
   ]
  },
  {
   "cell_type": "code",
   "execution_count": 29,
   "id": "9f628bed",
   "metadata": {},
   "outputs": [],
   "source": [
    "#method to train, predict, and score the model\n",
    "def train_predict_score(model, X_train, y_train, X_test, y_test):\n",
    "    \n",
    "    model.fit(X_train,y_train)\n",
    "    \n",
    "    y_pred_train = model.predict(X_train)\n",
    "    y_pred_test = model.predict(X_test)\n",
    "    \n",
    "    train_accuracy = metrics.accuracy_score(y_train,y_pred_train)\n",
    "    train_auc = metrics.roc_auc_score(y_train,y_pred_train)\n",
    "    test_accuracy = metrics.accuracy_score(y_test,y_pred_test)\n",
    "    test_auc = metrics.roc_auc_score(y_test,y_pred_test)\n",
    "    \n",
    "    return {'train_accuracy':train_accuracy,\n",
    "           'train_auc':train_auc,\n",
    "           'test_accuracy':test_accuracy,\n",
    "           'test_auc':test_auc}"
   ]
  },
  {
   "cell_type": "code",
   "execution_count": 30,
   "id": "73bb3f84",
   "metadata": {},
   "outputs": [],
   "source": [
    "#dataframe for model scores\n",
    "df_scores = pd.DataFrame(columns=['model','train_accuracy','train_auc','test_accuracy','test_auc'])"
   ]
  },
  {
   "cell_type": "markdown",
   "id": "46db5384",
   "metadata": {},
   "source": [
    "**Random Forest Model**"
   ]
  },
  {
   "cell_type": "code",
   "execution_count": 31,
   "id": "520fe0ec",
   "metadata": {},
   "outputs": [
    {
     "name": "stderr",
     "output_type": "stream",
     "text": [
      "<ipython-input-29-af658cf5bf42>:4: DataConversionWarning: A column-vector y was passed when a 1d array was expected. Please change the shape of y to (n_samples,), for example using ravel().\n",
      "  model.fit(X_train,y_train)\n"
     ]
    }
   ],
   "source": [
    "#Random Forest model\n",
    "rf_model = ensemble.RandomForestClassifier(random_state=random_state)\n",
    "\n",
    "results = train_predict_score(rf_model, X_train, y_train, X_test, y_test)\n",
    "results['model'] = 'Random Forest'\n",
    "df_scores = df_scores.append(results, ignore_index=True)"
   ]
  },
  {
   "cell_type": "code",
   "execution_count": 32,
   "id": "d7229398",
   "metadata": {},
   "outputs": [
    {
     "data": {
      "text/html": [
       "<div>\n",
       "<style scoped>\n",
       "    .dataframe tbody tr th:only-of-type {\n",
       "        vertical-align: middle;\n",
       "    }\n",
       "\n",
       "    .dataframe tbody tr th {\n",
       "        vertical-align: top;\n",
       "    }\n",
       "\n",
       "    .dataframe thead th {\n",
       "        text-align: right;\n",
       "    }\n",
       "</style>\n",
       "<table border=\"1\" class=\"dataframe\">\n",
       "  <thead>\n",
       "    <tr style=\"text-align: right;\">\n",
       "      <th></th>\n",
       "      <th>model</th>\n",
       "      <th>train_accuracy</th>\n",
       "      <th>train_auc</th>\n",
       "      <th>test_accuracy</th>\n",
       "      <th>test_auc</th>\n",
       "    </tr>\n",
       "  </thead>\n",
       "  <tbody>\n",
       "    <tr>\n",
       "      <th>0</th>\n",
       "      <td>Random Forest</td>\n",
       "      <td>1.0</td>\n",
       "      <td>1.0</td>\n",
       "      <td>0.983889</td>\n",
       "      <td>0.965307</td>\n",
       "    </tr>\n",
       "  </tbody>\n",
       "</table>\n",
       "</div>"
      ],
      "text/plain": [
       "           model  train_accuracy  train_auc  test_accuracy  test_auc\n",
       "0  Random Forest             1.0        1.0       0.983889  0.965307"
      ]
     },
     "execution_count": 32,
     "metadata": {},
     "output_type": "execute_result"
    }
   ],
   "source": [
    "df_scores"
   ]
  },
  {
   "cell_type": "markdown",
   "id": "99a0ba21",
   "metadata": {},
   "source": [
    "## 6. Feature Importance"
   ]
  },
  {
   "cell_type": "code",
   "execution_count": 33,
   "id": "bf7f94c9",
   "metadata": {},
   "outputs": [
    {
     "data": {
      "image/png": "[encoded data removed]",
      "text/plain": [
       "<Figure size 360x720 with 1 Axes>"
      ]
     },
     "metadata": {
      "needs_background": "light"
     },
     "output_type": "display_data"
    }
   ],
   "source": [
    "df_feature_importances = \\\n",
    "    pd.DataFrame(rf_model.feature_importances_, index=X_train.columns, columns=['importance']) \\\n",
    "        .sort_values(by='importance', ascending=False)\n",
    "\n",
    "plt.figure(figsize=(5,10))\n",
    "sns.barplot(data=df_feature_importances, y=df_feature_importances.index, x='importance', color='green', orient='h');"
   ]
  }
 ],
 "metadata": {
  "kernelspec": {
   "display_name": "Python 3",
   "language": "python",
   "name": "python3"
  },
  "language_info": {
   "codemirror_mode": {
    "name": "ipython",
    "version": 3
   },
   "file_extension": ".py",
   "mimetype": "text/x-python",
   "name": "python",
   "nbconvert_exporter": "python",
   "pygments_lexer": "ipython3",
   "version": "3.8.8"
  }
 },
 "nbformat": 4,
 "nbformat_minor": 5
}
